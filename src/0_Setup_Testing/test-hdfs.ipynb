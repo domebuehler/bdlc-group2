{
 "cells": [
  {
   "cell_type": "code",
   "execution_count": null,
   "id": "7d3dfd9d-1807-4a9b-9dce-9e601e684043",
   "metadata": {},
   "outputs": [],
   "source": [
    "!wget https://www.gutenberg.org/files/1661/1661-0.txt -O ~/holmes.txt"
   ]
  },
  {
   "cell_type": "code",
   "execution_count": null,
   "id": "e2f15520-432d-4b7b-8b91-d24aeeae9299",
   "metadata": {},
   "outputs": [],
   "source": [
    "!cat /home/cluster/holmes.txt"
   ]
  },
  {
   "cell_type": "code",
   "execution_count": null,
   "id": "1b121719-09c7-49fb-b0fa-554af89da97d",
   "metadata": {},
   "outputs": [],
   "source": [
    "!hdfs dfs -mkdir /test"
   ]
  },
  {
   "cell_type": "code",
   "execution_count": null,
   "id": "e8b681df-8bbc-40ec-b515-ac012985094f",
   "metadata": {},
   "outputs": [],
   "source": [
    "!hdfs dfs -put ~/holmes.txt /test/"
   ]
  },
  {
   "cell_type": "code",
   "execution_count": null,
   "id": "a1a752a5-3f0a-44b2-84f6-c451c18563ec",
   "metadata": {},
   "outputs": [],
   "source": [
    "!hdfs dfs -ls /test"
   ]
  },
  {
   "cell_type": "code",
   "execution_count": null,
   "id": "37050fb5-3960-473f-92f0-f16b8d6475ba",
   "metadata": {},
   "outputs": [],
   "source": [
    "!hdfs dfs -cat /test/holmes.txt | wc -l"
   ]
  }
 ],
 "metadata": {
  "kernelspec": {
   "display_name": "Python 3 (ipykernel)",
   "language": "python",
   "name": "python3"
  },
  "language_info": {
   "codemirror_mode": {
    "name": "ipython",
    "version": 3
   },
   "file_extension": ".py",
   "mimetype": "text/x-python",
   "name": "python",
   "nbconvert_exporter": "python",
   "pygments_lexer": "ipython3",
   "version": "3.10.12"
  }
 },
 "nbformat": 4,
 "nbformat_minor": 5
}
