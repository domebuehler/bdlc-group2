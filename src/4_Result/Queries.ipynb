{
 "cells": [
  {
   "cell_type": "code",
   "execution_count": null,
   "id": "01f3aeef-b695-40ef-b55f-1e05447d1a7c",
   "metadata": {},
   "outputs": [],
   "source": [
    "from pyspark.sql import SparkSession"
   ]
  },
  {
   "cell_type": "code",
   "execution_count": null,
   "id": "5bb1d587-dff1-4352-ae81-d293616942fd",
   "metadata": {},
   "outputs": [],
   "source": [
    "import os\n",
    "import findspark\n",
    "\n",
    "os.environ['PYSPARK_PYTHON'] = '/usr/bin/python3'\n",
    "os.environ['PYSPARK_DRIVER_PYTHON'] = '/usr/bin/python3'\n",
    "\n",
    "findspark.init()"
   ]
  },
  {
   "cell_type": "code",
   "execution_count": null,
   "id": "d3870565-96e5-408f-890e-d22604ee5fc2",
   "metadata": {},
   "outputs": [],
   "source": [
    "spark = SparkSession.builder.appName(\"lets do some querying\").getOrCreate()\n",
    "spark.conf.set(\"spark.sql.debug.maxToStringFields\", 1000)"
   ]
  },
  {
   "cell_type": "code",
   "execution_count": null,
   "id": "65e49037-42a2-48ec-8c9b-a62099359fc9",
   "metadata": {},
   "outputs": [],
   "source": [
    "df = spark.read.parquet(f\"/parkingviolations/raw_all.parquet\").cache()"
   ]
  },
  {
   "cell_type": "code",
   "execution_count": null,
   "id": "15879a58-6b9b-4d43-9bda-8e96c054af28",
   "metadata": {},
   "outputs": [],
   "source": [
    "df.printSchema()"
   ]
  },
  {
   "cell_type": "markdown",
   "id": "14706613",
   "metadata": {},
   "source": [
    "## Question 1: What's the most amount that was paid in violations and by which Plate ID?"
   ]
  },
  {
   "cell_type": "code",
   "execution_count": null,
   "id": "d3bd25b3-50b4-4590-adf4-70e0b2be221a",
   "metadata": {},
   "outputs": [],
   "source": [
    "filtered_df = df.filter((df.plate_id != \"BLANKPLATE\") & (df.plate_id != \"N/A\"))\n",
    "\n",
    "violations_count = filtered_df.groupBy(\"plate_id\", \"vehicle_make\").count()\n",
    "\n",
    "top_violated_plates = violations_count.orderBy(\"count\", ascending=False).limit(10)\n",
    "\n",
    "top_violated_plates.show()"
   ]
  },
  {
   "cell_type": "code",
   "execution_count": null,
   "id": "f80a9ece-1b1f-465e-9659-b6755fc22b70",
   "metadata": {},
   "outputs": [],
   "source": [
    "from pyspark.sql.functions import sum, col, format_number, count\n",
    "\n",
    "grouped_df = df.groupBy(\"violation_code\", \"violation_description\") \\\n",
    "    .agg(sum(\"all_other_areas\").alias(\"total_fine\"), count(\"*\").alias(\"violation_count\"))\n",
    "\n",
    "sorted_df = grouped_df.orderBy(col(\"total_fine\").desc()) \\\n",
    "    .withColumn(\"total_fine\", format_number(col(\"total_fine\"), 0))\n",
    "\n",
    "sorted_df.show(truncate=False)"
   ]
  },
  {
   "cell_type": "markdown",
   "id": "d0a1998c",
   "metadata": {},
   "source": [
    "## Question 2: At what hour of the day is it most likely to get a ticket?"
   ]
  },
  {
   "cell_type": "code",
   "execution_count": null,
   "id": "e5cb4965",
   "metadata": {},
   "outputs": [],
   "source": []
  },
  {
   "cell_type": "markdown",
   "id": "2fbbc02d",
   "metadata": {},
   "source": [
    "## Question 3: Which percentage of the total violation \"income\" has been provided by the top 10% (top 10% amount of tickets)?"
   ]
  },
  {
   "cell_type": "code",
   "execution_count": null,
   "id": "690628d9",
   "metadata": {},
   "outputs": [],
   "source": []
  }
 ],
 "metadata": {
  "kernelspec": {
   "display_name": "Python 3.12.0 64-bit",
   "language": "python",
   "name": "python3"
  },
  "language_info": {
   "codemirror_mode": {
    "name": "ipython",
    "version": 3
   },
   "file_extension": ".py",
   "mimetype": "text/x-python",
   "name": "python",
   "nbconvert_exporter": "python",
   "pygments_lexer": "ipython3",
   "version": "3.12.0"
  },
  "vscode": {
   "interpreter": {
    "hash": "f1062708a37074d70712b695aadee582e0b0b9f95f45576b5521424137d05fec"
   }
  }
 },
 "nbformat": 4,
 "nbformat_minor": 5
}
