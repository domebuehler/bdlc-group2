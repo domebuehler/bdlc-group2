{
 "cells": [
  {
   "cell_type": "code",
   "execution_count": null,
   "id": "01f3aeef-b695-40ef-b55f-1e05447d1a7c",
   "metadata": {},
   "outputs": [],
   "source": [
    "from pyspark.sql import SparkSession"
   ]
  },
  {
   "cell_type": "code",
   "execution_count": null,
   "id": "5bb1d587-dff1-4352-ae81-d293616942fd",
   "metadata": {},
   "outputs": [],
   "source": [
    "import findspark\n",
    "findspark.init()"
   ]
  },
  {
   "cell_type": "code",
   "execution_count": null,
   "id": "d3870565-96e5-408f-890e-d22604ee5fc2",
   "metadata": {},
   "outputs": [],
   "source": [
    "spark = SparkSession.builder.appName(\"lets do some querying\").getOrCreate()\n",
    "spark.conf.set(\"spark.sql.debug.maxToStringFields\", 1000)"
   ]
  },
  {
   "cell_type": "code",
   "execution_count": null,
   "id": "65e49037-42a2-48ec-8c9b-a62099359fc9",
   "metadata": {},
   "outputs": [],
   "source": [
    "df = spark.read.parquet(f\"/parkingviolations/raw_all.parquet\")\n",
    "df.cache()"
   ]
  },
  {
   "cell_type": "code",
   "execution_count": null,
   "id": "d3bd25b3-50b4-4590-adf4-70e0b2be221a",
   "metadata": {},
   "outputs": [],
   "source": [
    "# Group by plate_id and count the occurrences\n",
    "violations_count = df.groupBy(\"plate_id\").count()\n",
    "\n",
    "# Order by count in descending order and select the top 10\n",
    "top_violated_plates = violations_count.orderBy(\"count\", ascending=False).limit(10)\n",
    "\n",
    "# Show the result\n",
    "top_violated_plates.show()\n"
   ]
  }
 ],
 "metadata": {
  "kernelspec": {
   "display_name": "Python 3 (ipykernel)",
   "language": "python",
   "name": "python3"
  },
  "language_info": {
   "codemirror_mode": {
    "name": "ipython",
    "version": 3
   },
   "file_extension": ".py",
   "mimetype": "text/x-python",
   "name": "python",
   "nbconvert_exporter": "python",
   "pygments_lexer": "ipython3",
   "version": "3.10.12"
  }
 },
 "nbformat": 4,
 "nbformat_minor": 5
}
