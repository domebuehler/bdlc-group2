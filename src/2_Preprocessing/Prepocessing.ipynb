{
 "cells": [
  {
   "cell_type": "code",
   "execution_count": 26,
   "id": "cde34272-e08e-4937-95cf-4d8940584042",
   "metadata": {},
   "outputs": [],
   "source": [
    "import findspark\n",
    "findspark.init()"
   ]
  },
  {
   "cell_type": "code",
   "execution_count": 27,
   "id": "b945b64f-88b6-4624-a07a-89bdcae1bbef",
   "metadata": {},
   "outputs": [],
   "source": [
    "from pyspark.sql import SparkSession\n",
    "\n",
    "spark = SparkSession \\\n",
    "    .builder \\\n",
    "    .appName(\"Preprocessing\") \\\n",
    "    .getOrCreate()"
   ]
  },
  {
   "cell_type": "code",
   "execution_count": 28,
   "id": "b20d6bab-f6ea-43ec-b035-4bd6d4844316",
   "metadata": {},
   "outputs": [],
   "source": [
    "df = spark.read.csv('/parkingviolations/rawdata/rows.csv?accessType=DOWNLOAD')"
   ]
  },
  {
   "cell_type": "code",
   "execution_count": 29,
   "id": "411c6f4c-dc43-4721-93fb-df0ac31436dc",
   "metadata": {},
   "outputs": [
    {
     "name": "stdout",
     "output_type": "stream",
     "text": [
      "head: cannot open '/parkingviolations/rawdata/rows.csv?accessType=DOWNLOAD' for reading: No such file or directory\n"
     ]
    }
   ],
   "source": [
    "!head /parkingviolations/rawdata/rows.csv?accessType=DOWNLOAD"
   ]
  },
  {
   "cell_type": "code",
   "execution_count": 30,
   "id": "4af1f0a0-5aae-4bcb-be63-1341ec5a8fda",
   "metadata": {},
   "outputs": [],
   "source": [
    "#Save as parquet"
   ]
  },
  {
   "cell_type": "code",
   "execution_count": 31,
   "id": "f11e87a3-4db4-4e0f-8c52-8d4dae0b00af",
   "metadata": {},
   "outputs": [],
   "source": [
    "def save_as_parquet(name, df):\n",
    "    print(f\"saving {name}\")\n",
    "    print(\"------------------------------------\")\n",
    "    \n",
    "    df.show(3, truncate=False)\n",
    "    df.printSchema()\n",
    "    \n",
    "    lower_name = name.lower()\n",
    "    df.repartition(15).write.parquet(f\"/data/\")"
   ]
  },
  {
   "cell_type": "code",
   "execution_count": 32,
   "id": "4d317ac3-c1ea-42b3-a796-ebb8428f2804",
   "metadata": {},
   "outputs": [
    {
     "data": {
      "text/plain": [
       "DataFrame[_c0: string, _c1: string, _c2: string, _c3: string, _c4: string, _c5: string, _c6: string, _c7: string, _c8: string, _c9: string, _c10: string, _c11: string, _c12: string, _c13: string, _c14: string, _c15: string, _c16: string, _c17: string, _c18: string, _c19: string, _c20: string, _c21: string, _c22: string, _c23: string, _c24: string, _c25: string, _c26: string, _c27: string, _c28: string, _c29: string, _c30: string, _c31: string, _c32: string, _c33: string, _c34: string, _c35: string, _c36: string, _c37: string, _c38: string, _c39: string, _c40: string, _c41: string, _c42: string]"
      ]
     },
     "execution_count": 32,
     "metadata": {},
     "output_type": "execute_result"
    }
   ],
   "source": [
    "df.filter(\"'Summons Number' is not null\")"
   ]
  },
  {
   "cell_type": "code",
   "execution_count": 33,
   "id": "b21e2b78-0960-4739-8e1f-f6a2904309c1",
   "metadata": {},
   "outputs": [
    {
     "name": "stdout",
     "output_type": "stream",
     "text": [
      "saving 2023_preproceess\n",
      "------------------------------------\n",
      "+-------------+\n",
      "|summonsNumber|\n",
      "+-------------+\n",
      "|NULL         |\n",
      "|NULL         |\n",
      "|NULL         |\n",
      "+-------------+\n",
      "only showing top 3 rows\n",
      "\n",
      "root\n",
      " |-- summonsNumber: integer (nullable = true)\n",
      "\n"
     ]
    },
    {
     "name": "stderr",
     "output_type": "stream",
     "text": [
      "                                                                                \r"
     ]
    }
   ],
   "source": [
    "save_as_parquet(\"2023_preproceess\", df.selectExpr(\\\n",
    "\"cast('Summons Number' as int) summonsNumber\"))"
   ]
  },
  {
   "cell_type": "code",
   "execution_count": 34,
   "id": "c99bdae6-756f-4b29-b32b-152a165710a9",
   "metadata": {},
   "outputs": [
    {
     "name": "stdout",
     "output_type": "stream",
     "text": [
      "dataset  hdfs  hdfscluster  lost+found\ttmp  tmpcluster\n"
     ]
    }
   ],
   "source": [
    "!ls /data/"
   ]
  },
  {
   "cell_type": "code",
   "execution_count": null,
   "id": "1ce59a3c-142f-4a95-addf-128157846c84",
   "metadata": {},
   "outputs": [],
   "source": []
  }
 ],
 "metadata": {
  "kernelspec": {
   "display_name": "Python 3 (ipykernel)",
   "language": "python",
   "name": "python3"
  },
  "language_info": {
   "codemirror_mode": {
    "name": "ipython",
    "version": 3
   },
   "file_extension": ".py",
   "mimetype": "text/x-python",
   "name": "python",
   "nbconvert_exporter": "python",
   "pygments_lexer": "ipython3",
   "version": "3.10.12"
  }
 },
 "nbformat": 4,
 "nbformat_minor": 5
}
