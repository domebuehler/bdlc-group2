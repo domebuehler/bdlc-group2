{
 "cells": [
  {
   "cell_type": "markdown",
   "id": "848ad289-54d7-46ef-92cc-4c7b7dd4d25d",
   "metadata": {},
   "source": [
    "## Download Violation Code Mapping as XLSX\n",
    "Download Violations Code Mapping from Official City of New York Data Site"
   ]
  },
  {
   "cell_type": "code",
   "execution_count": null,
   "id": "171c9ff2-2778-4d4d-a526-7965d9cedc2e",
   "metadata": {
    "scrolled": true
   },
   "outputs": [],
   "source": [
    "!wget -O Codes-Mapping.xlsx \"https://data.cityofnewyork.us/api/views/pvqr-7yc4/files/7875fa68-3a29-4825-9dfb-63ef30576f9e?download=true&filename=ParkingViolationCodes_January2020.xlsx\""
   ]
  },
  {
   "cell_type": "code",
   "execution_count": null,
   "id": "dd58cc14-8a6e-4801-a4a4-d72d6a0d999c",
   "metadata": {},
   "outputs": [],
   "source": [
    "!hdfs dfs -mkdir /parkingviolations-codes"
   ]
  },
  {
   "cell_type": "code",
   "execution_count": null,
   "id": "cc8d9794-4c7b-4bf3-aa24-fb42ba47917c",
   "metadata": {},
   "outputs": [],
   "source": [
    "!hdfs dfs -put ./Codes-Mapping.xlsx /parkingviolations-codes"
   ]
  },
  {
   "cell_type": "markdown",
   "id": "221b49ac-afaa-46bc-a8cf-08687962e83c",
   "metadata": {},
   "source": [
    "# Move Rawdata to hdfs"
   ]
  },
  {
   "cell_type": "code",
   "execution_count": null,
   "id": "5595ca70-5c41-4598-bc07-00eeb153a97b",
   "metadata": {},
   "outputs": [],
   "source": [
    "!hdfs dfs -mkdir /parkingviolations "
   ]
  },
  {
   "cell_type": "code",
   "execution_count": null,
   "id": "dcc33ed7-e7ab-4736-9223-02ab2317b1a2",
   "metadata": {},
   "outputs": [],
   "source": [
    "!hdfs dfs -put /data/hdfscluster/rawdata /parkingviolations"
   ]
  }
 ],
 "metadata": {
  "kernelspec": {
   "display_name": "Python 3 (ipykernel)",
   "language": "python",
   "name": "python3"
  },
  "language_info": {
   "codemirror_mode": {
    "name": "ipython",
    "version": 3
   },
   "file_extension": ".py",
   "mimetype": "text/x-python",
   "name": "python",
   "nbconvert_exporter": "python",
   "pygments_lexer": "ipython3",
   "version": "3.10.12"
  }
 },
 "nbformat": 4,
 "nbformat_minor": 5
}
