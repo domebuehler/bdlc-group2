{
 "cells": [
  {
   "cell_type": "markdown",
   "id": "848ad289-54d7-46ef-92cc-4c7b7dd4d25d",
   "metadata": {},
   "source": [
    "## Download Violation Code Mapping as XLSX\n",
    "Download Violations Code Mapping from Official City of New York Data Site"
   ]
  },
  {
   "cell_type": "code",
   "execution_count": 2,
   "id": "171c9ff2-2778-4d4d-a526-7965d9cedc2e",
   "metadata": {
    "collapsed": true,
    "jupyter": {
     "outputs_hidden": true
    },
    "scrolled": true
   },
   "outputs": [
    {
     "name": "stdout",
     "output_type": "stream",
     "text": [
      "--2024-05-11 11:28:28--  https://data.cityofnewyork.us/api/views/pvqr-7yc4/files/7875fa68-3a29-4825-9dfb-63ef30576f9e?download=true&filename=ParkingViolationCodes_January2020.xlsx\n",
      "Resolving data.cityofnewyork.us (data.cityofnewyork.us)... 52.206.68.26, 52.206.140.199, 52.206.140.205\n",
      "Connecting to data.cityofnewyork.us (data.cityofnewyork.us)|52.206.68.26|:443... connected.\n",
      "HTTP request sent, awaiting response... 200 OK\n",
      "Length: unspecified [application/octet-stream]\n",
      "Saving to: ‘Codes-Mapping.xlsx’\n",
      "\n",
      "Codes-Mapping.xlsx      [ <=>                ]  14.76K  --.-KB/s    in 0s      \n",
      "\n",
      "2024-05-11 11:28:28 (92.4 MB/s) - ‘Codes-Mapping.xlsx’ saved [15111]\n",
      "\n"
     ]
    }
   ],
   "source": [
    "!wget -O Codes-Mapping.xlsx \"https://data.cityofnewyork.us/api/views/pvqr-7yc4/files/7875fa68-3a29-4825-9dfb-63ef30576f9e?download=true&filename=ParkingViolationCodes_January2020.xlsx\""
   ]
  },
  {
   "cell_type": "code",
   "execution_count": null,
   "id": "5595ca70-5c41-4598-bc07-00eeb153a97b",
   "metadata": {},
   "outputs": [],
   "source": [
    "!hdfs dfs -mkdir /parkingviolations "
   ]
  },
  {
   "cell_type": "code",
   "execution_count": null,
   "id": "dcc33ed7-e7ab-4736-9223-02ab2317b1a2",
   "metadata": {},
   "outputs": [],
   "source": [
    "!hdfs dfs -put /data/hdfscluster/rawdata /parkingviolations"
   ]
  },
  {
   "cell_type": "code",
   "execution_count": null,
   "id": "aa371af2-394f-4c60-8185-7fbbc910f1ad",
   "metadata": {},
   "outputs": [],
   "source": []
  }
 ],
 "metadata": {
  "kernelspec": {
   "display_name": "Python 3 (ipykernel)",
   "language": "python",
   "name": "python3"
  },
  "language_info": {
   "codemirror_mode": {
    "name": "ipython",
    "version": 3
   },
   "file_extension": ".py",
   "mimetype": "text/x-python",
   "name": "python",
   "nbconvert_exporter": "python",
   "pygments_lexer": "ipython3",
   "version": "3.10.12"
  }
 },
 "nbformat": 4,
 "nbformat_minor": 5
}
