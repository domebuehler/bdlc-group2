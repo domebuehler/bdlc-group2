{
 "cells": [
  {
   "cell_type": "code",
   "execution_count": null,
   "id": "5595ca70-5c41-4598-bc07-00eeb153a97b",
   "metadata": {},
   "outputs": [],
   "source": [
    "!hdfs dfs -mkdir /parkingviolations "
   ]
  },
  {
   "cell_type": "code",
   "execution_count": null,
   "id": "dcc33ed7-e7ab-4736-9223-02ab2317b1a2",
   "metadata": {},
   "outputs": [],
   "source": [
    "!hdfs dfs -put /data/hdfscluster/rawdata /parkingviolations"
   ]
  },
  {
   "cell_type": "code",
   "execution_count": null,
   "id": "aa371af2-394f-4c60-8185-7fbbc910f1ad",
   "metadata": {},
   "outputs": [],
   "source": []
  }
 ],
 "metadata": {
  "kernelspec": {
   "display_name": "Python 3 (ipykernel)",
   "language": "python",
   "name": "python3"
  },
  "language_info": {
   "codemirror_mode": {
    "name": "ipython",
    "version": 3
   },
   "file_extension": ".py",
   "mimetype": "text/x-python",
   "name": "python",
   "nbconvert_exporter": "python",
   "pygments_lexer": "ipython3",
   "version": "3.10.12"
  }
 },
 "nbformat": 4,
 "nbformat_minor": 5
}
