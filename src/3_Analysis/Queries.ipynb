{
 "cells": [
  {
   "cell_type": "markdown",
   "id": "038203f3-b14d-4bab-90ef-83e12c180a9e",
   "metadata": {},
   "source": [
    "# Analysis\n",
    "\n",
    "We want to answer the following questions:\n",
    "\n",
    "- Question 1: Which Plate ID got the most tickets?\n",
    "- Question 2: What is the highest amount paid in fines by a single plate ID?\n",
    "- Question 3: At what hour of the day is it most likely to get a ticket?\n",
    "- Question 4: Does the Pareto Principle apply? Do the top 20% of plate ids generate 80% of the revenue?\n",
    "- Question 5: How much money do the top 10 most issued violations bring in?"
   ]
  },
  {
   "cell_type": "markdown",
   "id": "93a1bc7b-3e0b-4fae-b77a-5b6095e97bc3",
   "metadata": {},
   "source": [
    "## Prepare data and SparkSession"
   ]
  },
  {
   "cell_type": "code",
   "execution_count": 1,
   "id": "9f6849bf-64bc-4243-aa62-b0ed527961cc",
   "metadata": {},
   "outputs": [
    {
     "name": "stderr",
     "output_type": "stream",
     "text": [
      "Setting default log level to \"WARN\".\n",
      "To adjust logging level use sc.setLogLevel(newLevel). For SparkR, use setLogLevel(newLevel).\n",
      "24/06/02 07:55:47 WARN NativeCodeLoader: Unable to load native-hadoop library for your platform... using builtin-java classes where applicable\n",
      "                                                                                \r"
     ]
    },
    {
     "name": "stdout",
     "output_type": "stream",
     "text": [
      "root\n",
      " |-- violation_code: integer (nullable = true)\n",
      " |-- summons_number: integer (nullable = true)\n",
      " |-- plate_id: string (nullable = true)\n",
      " |-- registration_state: string (nullable = true)\n",
      " |-- plate_type: string (nullable = true)\n",
      " |-- issue_date: date (nullable = true)\n",
      " |-- vehicle_body_type: string (nullable = true)\n",
      " |-- vehicle_make: string (nullable = true)\n",
      " |-- issuing_agency: string (nullable = true)\n",
      " |-- street_code1: integer (nullable = true)\n",
      " |-- street_code2: integer (nullable = true)\n",
      " |-- street_code3: integer (nullable = true)\n",
      " |-- vehicle_expiration_date: integer (nullable = true)\n",
      " |-- violation_location: string (nullable = true)\n",
      " |-- violation_precinct: integer (nullable = true)\n",
      " |-- issuer_precinct: integer (nullable = true)\n",
      " |-- issuer_code: integer (nullable = true)\n",
      " |-- issuer_command: string (nullable = true)\n",
      " |-- issuer_squad: string (nullable = true)\n",
      " |-- violation_time: string (nullable = true)\n",
      " |-- time_first_observed: string (nullable = true)\n",
      " |-- violation_county: string (nullable = true)\n",
      " |-- violation_in_front_of_or_opposite: string (nullable = true)\n",
      " |-- house_number: string (nullable = true)\n",
      " |-- street_name: string (nullable = true)\n",
      " |-- intersecting_street: string (nullable = true)\n",
      " |-- date_first_observed: integer (nullable = true)\n",
      " |-- law_section: integer (nullable = true)\n",
      " |-- sub_division: string (nullable = true)\n",
      " |-- violation_legal_code: string (nullable = true)\n",
      " |-- days_parking_in_effect: string (nullable = true)\n",
      " |-- from_hours_in_effect: string (nullable = true)\n",
      " |-- to_hours_in_effect: string (nullable = true)\n",
      " |-- vehicle_color: string (nullable = true)\n",
      " |-- unregistered_vehicle: string (nullable = true)\n",
      " |-- vehicle_year: integer (nullable = true)\n",
      " |-- meter_number: string (nullable = true)\n",
      " |-- feet_from_curb: integer (nullable = true)\n",
      " |-- violation_post_code: string (nullable = true)\n",
      " |-- no_standing_or_stopping_violation: string (nullable = true)\n",
      " |-- hydrant_violation: string (nullable = true)\n",
      " |-- double_parking_violation: string (nullable = true)\n",
      " |-- issue_datetime: timestamp (nullable = true)\n",
      " |-- violation_description: string (nullable = true)\n",
      " |-- manhattan_96th_st_below: long (nullable = true)\n",
      " |-- all_other_areas: long (nullable = true)\n",
      " |-- fine_amount: double (nullable = true)\n",
      "\n"
     ]
    }
   ],
   "source": [
    "from pyspark.sql import SparkSession\n",
    "import os\n",
    "import findspark\n",
    "\n",
    "os.environ['PYSPARK_PYTHON'] = '/usr/bin/python3'\n",
    "os.environ['PYSPARK_DRIVER_PYTHON'] = '/usr/bin/python3'\n",
    "\n",
    "# Find / Initialize Spark to be used by pyspark.\n",
    "findspark.init()\n",
    "\n",
    "# Initialize SparkSession\n",
    "spark = SparkSession.builder.appName(\"lets do some querying\").getOrCreate()\n",
    "spark.conf.set(\"spark.sql.debug.maxToStringFields\", 1000)\n",
    "\n",
    "# Read parquet dataframe from hdfs and cache it.\n",
    "df = spark.read.parquet(f\"/parkingviolations/raw_all.parquet\").cache()\n",
    "\n",
    "# Print schema of parquet dataframe.\n",
    "df.printSchema()"
   ]
  },
  {
   "cell_type": "markdown",
   "id": "14706613",
   "metadata": {},
   "source": [
    "## Question 1: Which Plate ID got the most tickets?"
   ]
  },
  {
   "cell_type": "code",
   "execution_count": 2,
   "id": "d3bd25b3-50b4-4590-adf4-70e0b2be221a",
   "metadata": {},
   "outputs": [
    {
     "name": "stderr",
     "output_type": "stream",
     "text": [
      "                                                                                \r"
     ]
    },
    {
     "name": "stdout",
     "output_type": "stream",
     "text": [
      "+--------+-----+\n",
      "|plate_id|count|\n",
      "+--------+-----+\n",
      "| 47603MD| 7952|\n",
      "| 12863KA| 7654|\n",
      "| 2028685| 7055|\n",
      "| 47832MD| 6858|\n",
      "| 96091MA| 6672|\n",
      "| 56253MG| 6587|\n",
      "| 52969MD| 6532|\n",
      "| 30954JX| 6333|\n",
      "| 17744MD| 6298|\n",
      "| 47601MD| 6253|\n",
      "+--------+-----+\n",
      "\n"
     ]
    }
   ],
   "source": [
    "# Filter out rows with invalid data.\n",
    "filtered_df = df.filter((df.plate_id != \"BLANKPLATE\") & (df.plate_id != \"N/A\"))\n",
    "\n",
    "# Count the number of violations for each 'plate_id'.\n",
    "violations_count = filtered_df.groupBy(\"plate_id\").count()\n",
    "\n",
    "# Sort the counted violations in descending order and selects the top 10 'plate_id's with the highest counts.\n",
    "top_violated_plates = violations_count.orderBy(\"count\", ascending=False).limit(10)\n",
    "\n",
    "top_violated_plates.show()"
   ]
  },
  {
   "cell_type": "markdown",
   "id": "f91a950b-5998-4492-b44a-c2a6ffcb25e6",
   "metadata": {},
   "source": [
    "The owner of plate ID `47603MD` has received 7952 tickets. Over the course of 10 years, this is about 2 tickets per day, which seems reasonable, especially considering that many other plate ids are close to this number."
   ]
  },
  {
   "cell_type": "markdown",
   "id": "fae2465f-8935-4acf-989e-1a4125095d99",
   "metadata": {},
   "source": [
    "## Question 2: What is the highest amount paid in fines by a single plate ID?"
   ]
  },
  {
   "cell_type": "code",
   "execution_count": 3,
   "id": "1da7fb45-453f-4a09-ab30-1e3c89304ba2",
   "metadata": {},
   "outputs": [
    {
     "name": "stderr",
     "output_type": "stream",
     "text": [
      "[Stage 7:======================================================>  (48 + 2) / 50]\r"
     ]
    },
    {
     "name": "stdout",
     "output_type": "stream",
     "text": [
      "+--------+-----------------+\n",
      "|plate_id|total_fine_amount|\n",
      "+--------+-----------------+\n",
      "| 47603MD|         846407.5|\n",
      "| 12863KA|         793577.5|\n",
      "| 47832MD|         726047.5|\n",
      "| 56253MG|         720915.0|\n",
      "| 30954JX|         689490.0|\n",
      "| 52969MD|         678772.5|\n",
      "| 17744MD|         677172.5|\n",
      "| 47601MD|         670632.5|\n",
      "| 12125MJ|         667880.0|\n",
      "| 83460MH|         665475.0|\n",
      "+--------+-----------------+\n",
      "\n"
     ]
    },
    {
     "name": "stderr",
     "output_type": "stream",
     "text": [
      "                                                                                \r"
     ]
    }
   ],
   "source": [
    "from pyspark.sql.functions import desc, sum as _sum\n",
    "\n",
    "# Filter out rows with invalid data.\n",
    "filtered_df = df.filter((df.plate_id != \"BLANKPLATE\") & (df.plate_id != \"N/A\"))\n",
    "\n",
    "# Group the filtered data by 'plate_id'.\n",
    "# Calculate the sum of 'fine_amount' for each 'plate_id.\n",
    "# Order by total fine amount in descending order.\n",
    "# Limit to the top 10 items.\n",
    "result_df = filtered_df.groupBy(\"plate_id\") \\\n",
    "             .agg(_sum(\"fine_amount\").alias(\"total_fine_amount\")) \\\n",
    "             .orderBy(desc(\"total_fine_amount\")) \\\n",
    "             .limit(10)\n",
    "\n",
    "result_df.show()"
   ]
  },
  {
   "cell_type": "markdown",
   "id": "d0a1998c",
   "metadata": {},
   "source": [
    "The query returns the license plate ids and the amount of fines collected on them over 10 years. The plate id 47603MD has the highest value of fines collected in the last 10 years with a value of 846'407.5 dollars. This seems to be too high at first. But considering some facts it could be the case. First, we have to divide the amount of fines over 10 years, which results in an annual average of 84,641 dollars. According to https://www.nyc.gov/html/dot/downloads/pdf/nyc_greendividend_april2010.pdf New Yorkers own 2 million cars. So the chances that there are some car owners who do not follow any parking rules, especially in a city with so many rich people is likely. Additionally, you have to consider that it's not just this one outlier, there are many other license plates that are close to this number. Because we didn't get the total fine amount from one data point, but by summing up all the amounts registered on this license plate, it is more possible that this is not a case of false data. Interesting, but also reasonable, is that the plate ids that paid the most were also the ones that collected the most fines. This can be seen by the fact that many of the same plateids are in the list of Question1 and Question2."
   ]
  },
  {
   "cell_type": "markdown",
   "id": "e50ff3a4-d0c0-491a-96b0-f77715a66240",
   "metadata": {},
   "source": [
    "## Question 3: At what hour of the day is it most likely to get a ticket?"
   ]
  },
  {
   "cell_type": "code",
   "execution_count": 4,
   "id": "e5cb4965",
   "metadata": {},
   "outputs": [
    {
     "name": "stderr",
     "output_type": "stream",
     "text": [
      "                                                                                \r"
     ]
    },
    {
     "name": "stdout",
     "output_type": "stream",
     "text": [
      "The most likely hour of the day to get a ticket: 9\n",
      "The number of tickets issued during that hour: 13956669\n",
      "Count and likeliness to get a ticket for all hours of the day:\n"
     ]
    },
    {
     "name": "stderr",
     "output_type": "stream",
     "text": [
      "                                                                                \r"
     ]
    },
    {
     "name": "stdout",
     "output_type": "stream",
     "text": [
      "+----------+--------+---------------------+\n",
      "|issue_hour|count   |likeliness_percentage|\n",
      "+----------+--------+---------------------+\n",
      "|9         |13956669|9.73885129251759     |\n",
      "|11        |13838039|9.656072233357314    |\n",
      "|8         |13054246|9.10914778662033     |\n",
      "|13        |13043221|9.101454630359333    |\n",
      "|10        |11518288|8.03736865697609     |\n",
      "|14        |11411279|7.962698638079675    |\n",
      "|15        |8722397 |6.08641842099297     |\n",
      "|7         |7990401 |5.575637503947671    |\n",
      "|16        |7428136 |5.183293512556357    |\n",
      "|17        |5750077 |4.0123574488673235   |\n",
      "|6         |4079367 |2.8465494582270026   |\n",
      "|18        |3806819 |2.6563676575356565   |\n",
      "|1         |3458389 |2.4132360080101214   |\n",
      "|5         |3376263 |2.355929146233196    |\n",
      "|2         |3034098 |2.11716916328137     |\n",
      "|0         |2871407 |2.0036446929632032   |\n",
      "|3         |2766792 |1.9306451879977469   |\n",
      "|20        |2616429 |1.825723096852874    |\n",
      "|4         |2525885 |1.7625422224314977   |\n",
      "|21        |2484729 |1.7338238968915818   |\n",
      "|19        |2213271 |1.544402689426947    |\n",
      "|22        |1415513 |0.9877335780926989   |\n",
      "|23        |1152318 |0.8040782255200924   |\n",
      "|12        |785219  |0.5479194980592696   |\n",
      "+----------+--------+---------------------+\n",
      "only showing top 24 rows\n",
      "\n"
     ]
    },
    {
     "name": "stderr",
     "output_type": "stream",
     "text": [
      "                                                                                \r"
     ]
    },
    {
     "data": {
      "image/png": "[encoded data removed]",
      "text/plain": [
       "<Figure size 1000x600 with 1 Axes>"
      ]
     },
     "metadata": {},
     "output_type": "display_data"
    }
   ],
   "source": [
    "from pyspark.sql.functions import hour, col\n",
    "import matplotlib.pyplot as plt\n",
    "\n",
    "# Extract hours.\n",
    "df_with_hour = df.withColumn(\"issue_hour\", hour(col(\"issue_datetime\")))\n",
    "\n",
    "# Tickets per hour.\n",
    "hourly_ticket_counts = df_with_hour.groupBy(\"issue_hour\").count()\n",
    "\n",
    "# Hour with the highest amounts of tickets issued.\n",
    "most_likely_hour = hourly_ticket_counts.orderBy(col(\"count\").desc()).first()\n",
    "most_likely_hour_of_day = most_likely_hour[\"issue_hour\"]\n",
    "ticket_count_at_peak_hour = most_likely_hour[\"count\"]\n",
    "\n",
    "# Calculate the total number of tickets for percentages.\n",
    "total_tickets = df_with_hour.count()\n",
    "\n",
    "# Calculate the percentage likelihood for each hour.\n",
    "hourly_ticket_counts = hourly_ticket_counts.withColumn(\n",
    "    \"likeliness_percentage\",\n",
    "    (col(\"count\") / total_tickets) * 100\n",
    ")\n",
    "\n",
    "# Show results.\n",
    "print(f\"The most likely hour of the day to get a ticket: {most_likely_hour_of_day}\")\n",
    "print(f\"The number of tickets issued during that hour: {ticket_count_at_peak_hour}\")\n",
    "\n",
    "print(\"Count and likeliness to get a ticket for all hours of the day:\")\n",
    "hourly_ticket_counts.orderBy(hourly_ticket_counts.likeliness_percentage.desc()).show(24, truncate=False)\n",
    "\n",
    "# Convert to pandas for plotting.\n",
    "pandas_df = hourly_ticket_counts.orderBy('issue_hour').toPandas()\n",
    "\n",
    "plt.figure(figsize=(10, 6))\n",
    "plt.bar(pandas_df['issue_hour'], pandas_df['likeliness_percentage'], color='blue')\n",
    "plt.xlabel('Issue Hour')\n",
    "plt.ylabel('Likelihood Percentage')\n",
    "plt.title('Percentage of tickets issued by time of day')\n",
    "plt.xticks(range(0, 24))\n",
    "plt.show()"
   ]
  },
  {
   "cell_type": "markdown",
   "id": "2fbbc02d",
   "metadata": {},
   "source": [
    "The above analysis suggests that 9am is the hour with the highest probability of receiving a ticket in New York City. But it also shows that there is only a small difference between the number of tickets issued at 9am and 11am or 8am. \n",
    "It is very noticeable that all the early hours of a normal work day are ranked highest. It is interesting to note that the lowest number of tickets are issued between 12 and 13 o'clock.\n",
    "This is surprising because the data suggests that more tickets are issued at 3 am in the morning than during the lunch hour.\n",
    "Overall, the results seem reasonable, even if it is a bit unexpected to see that there are still so many tickets given at night and there is such a steep decline during the lunch break. It's also interesting to see how quickly the number of tickets issued drops from 1 pm onward."
   ]
  },
  {
   "cell_type": "markdown",
   "id": "e2893a85-557e-4296-82ca-9d54fe4feb82",
   "metadata": {},
   "source": [
    "## Question 4: Does the Pareto Principle apply? Do the top 20% of plate ids generate 80% of the revenue?"
   ]
  },
  {
   "cell_type": "markdown",
   "id": "8ac912a9-b07b-43de-88f2-b597443d77f4",
   "metadata": {},
   "source": [
    "First Query is a lot faster but doesn't use as much the learned SQL commands"
   ]
  },
  {
   "cell_type": "code",
   "execution_count": 5,
   "id": "d76982c9-7b75-40ac-9348-ce21b544bfc9",
   "metadata": {},
   "outputs": [
    {
     "name": "stderr",
     "output_type": "stream",
     "text": [
      "                                                                                \r"
     ]
    },
    {
     "name": "stdout",
     "output_type": "stream",
     "text": [
      "75.2081013971057\n"
     ]
    }
   ],
   "source": [
    "from pyspark.sql import SparkSession\n",
    "from pyspark.sql.functions import col, sum as _sum\n",
    "\n",
    "# Filter out invalid plate IDs and group by plate_id to count the tickets.\n",
    "violator_ticket_counts = df.filter((col(\"plate_id\") != \"BLANKPLATE\") & (col(\"plate_id\") != \"N/A\")) \\\n",
    "    .groupBy(\"plate_id\") \\\n",
    "    .count()\n",
    "\n",
    "# Calculate the top 20% threshold using approxQuantile.\n",
    "top_20_percent_count_threshold = violator_ticket_counts \\\n",
    "    .approxQuantile(\"count\", [0.80], 0.01)[0]\n",
    "\n",
    "# Filter the top 20% violators.\n",
    "top_20_percent_violators = violator_ticket_counts \\\n",
    "    .filter(col(\"count\") >= top_20_percent_count_threshold)\n",
    "\n",
    "# Join with the original dataframe to get rows for top 20% violators.\n",
    "top_20_percent_df = df.join(top_20_percent_violators, on=\"plate_id\", how=\"inner\")\n",
    "\n",
    "# Calculate total fine amount for top 20% violators.\n",
    "total_fine_top_20_percent = top_20_percent_df.agg(_sum(\"fine_amount\").alias(\"total_fine\")).collect()[0][\"total_fine\"]\n",
    "\n",
    "# Calculate total fine amount for all violators.\n",
    "total_fine_all = df.agg(_sum(\"fine_amount\").alias(\"total_fine\")).collect()[0][\"total_fine\"]\n",
    "\n",
    "# Calculate the percentage.\n",
    "percentage_fine_top_20_percent = (total_fine_top_20_percent / total_fine_all) * 100\n",
    "\n",
    "print(percentage_fine_top_20_percent)"
   ]
  },
  {
   "cell_type": "markdown",
   "id": "5fb9b923-2bca-4ca0-9563-5f880deeafb9",
   "metadata": {},
   "source": [
    "Approximately 75% of total violation revenue comes from the top 20% of highest paying plate IDs. This seems like a reasonable number. There are many plate IDs that have only a small number of minor violations over 10 years. But the top 20% of violators have violated a lot over the 10 years. So it makes sense that the top percentage would make up a big portion of the total revenue that comes from parking fines. This shows that the Pareto principle applies to parking violations. A small number of plates cause most parking violations. What's interesting is that we were able to show not only that a small amount pays a large percentage, but that it's even very close to the Pareto suggested 80%."
   ]
  },
  {
   "cell_type": "markdown",
   "id": "bf2a3a77-aabc-49da-9341-5c98d95e997b",
   "metadata": {},
   "source": [
    "## Question 5: How much money do the top 10 most issued violations bring in?"
   ]
  },
  {
   "cell_type": "code",
   "execution_count": 6,
   "id": "ab4cba27-b0ff-46f5-9c4a-76003748d676",
   "metadata": {
    "scrolled": true
   },
   "outputs": [],
   "source": [
    "from pyspark.sql.functions import col\n",
    "\n",
    "# Group by violation code and sum the fine amount.\n",
    "violation_counts = df.groupBy(\"violation_code\", \"violation_description\") \\\n",
    "    .agg({\"fine_amount\": \"sum\"}) \\\n",
    "    .withColumnRenamed(\"sum(fine_amount)\", \"total_fine\") \\\n",
    "    .orderBy(col(\"total_fine\").desc()) \\\n",
    "    .limit(10)"
   ]
  },
  {
   "cell_type": "code",
   "execution_count": 7,
   "id": "5a9e62d8-c533-4c47-aafc-ab15d9c5dc52",
   "metadata": {},
   "outputs": [],
   "source": [
    "def format_large_numbers(x, pos):\n",
    "    if x >= 1e9:\n",
    "        return '{:,.0f}B'.format(x * 1e-9)\n",
    "    elif x >= 1e6:\n",
    "        return '{:,.0f}M'.format(x * 1e-6)\n",
    "    elif x >= 1e3:\n",
    "        return '{:,.0f}K'.format(x * 1e-3)\n",
    "    else:\n",
    "        return '{:,.0f}'.format(x)"
   ]
  },
  {
   "cell_type": "code",
   "execution_count": 8,
   "id": "70c32722-e06c-49ca-8ff8-97081ab15bfb",
   "metadata": {},
   "outputs": [
    {
     "name": "stderr",
     "output_type": "stream",
     "text": [
      "                                                                                \r"
     ]
    },
    {
     "name": "stdout",
     "output_type": "stream",
     "text": [
      "Codes:  [36, 14, 21, 40, 38, 46, 20, 71, 19, 7]\n",
      "Descriptions:  ['PHTO SCHOOL ZN SPEED VIOLATION', 'NO STANDING-DAY/TIME LIMITS', 'NO PARKING-STREET CLEANING', 'FIRE HYDRANT', 'FAIL TO DSPLY MUNI METER RECPT', 'DOUBLE PARKING', 'NO PARKING-DAY/TIME LIMITS', 'INSP. STICKER-EXPIRED/MISSING', 'NO STANDING-BUS STOP', 'FAILURE TO STOP AT RED LIGHT']\n",
      "Total Fines:  [1559547200.0, 1169243870.0, 1015908520.0, 769254780.0, 639667750.0, 631166575.0, 487466562.5, 396143605.0, 372928555.0, 302852300.0]\n"
     ]
    },
    {
     "data": {
      "image/png": "[encoded data removed]",
      "text/plain": [
       "<Figure size 1000x800 with 1 Axes>"
      ]
     },
     "metadata": {},
     "output_type": "display_data"
    }
   ],
   "source": [
    "import matplotlib.pyplot as plt\n",
    "import matplotlib.ticker as ticker\n",
    "\n",
    "# Extracting data for plotting.\n",
    "codes = violation_counts.select(\"violation_code\").rdd.flatMap(lambda x: x).collect()\n",
    "descriptions = violation_counts.select(\"violation_description\").rdd.flatMap(lambda x: x).collect()\n",
    "total_fines = violation_counts.select(\"total_fine\").rdd.flatMap(lambda x: x).collect()\n",
    "\n",
    "# Print the extracted data.\n",
    "print(\"Codes: \", codes)\n",
    "print(\"Descriptions: \", descriptions)\n",
    "print(\"Total Fines: \", total_fines)\n",
    "\n",
    "# Plotting.\n",
    "plt.figure(figsize=(10, 8))\n",
    "plt.barh(descriptions, total_fines, color='skyblue')\n",
    "plt.xlabel('Total Fine Amount')\n",
    "plt.ylabel('Violation Description')\n",
    "plt.title('Top 10 Most Issued Violations and Their Total Fine Amounts')\n",
    "plt.gca().invert_yaxis()  # Invert y-axis to have the highest fine at the top\n",
    "plt.gca().xaxis.set_major_formatter(ticker.FuncFormatter(format_large_numbers))  # Apply the formatting function to x-axis\n",
    "plt.show()"
   ]
  },
  {
   "cell_type": "markdown",
   "id": "9d654a76-8537-4129-90dc-71ccd5477578",
   "metadata": {},
   "source": [
    "The \"photo school zone speed violation\" is the violation that has brought in about $2 billion since 2013. This is especially interesting when you consider that it is not one of the more expensive fines. The fine with the highest payment for a fine is 512 dollars and the \"photo school zone speed violation\" only costs 50 dollars. In conclusion, it must be an offense that is fined very often. It would make sense that the New York authorities would enforce more at high risk places like schools. Also, because speeding can be caught automatically by speed cameras, it makes sense that there were more such fines given. In this article, the New York authorities describe how they monitor schools for speeding. (https://www.nyc.gov/site/finance/vehicles/school-zone-camera-violations.page)"
   ]
  },
  {
   "cell_type": "code",
   "execution_count": 9,
   "id": "1227235b-7693-40c3-a2e6-20b6dec89d99",
   "metadata": {},
   "outputs": [],
   "source": [
    "spark.stop()"
   ]
  }
 ],
 "metadata": {
  "kernelspec": {
   "display_name": "Python 3 (ipykernel)",
   "language": "python",
   "name": "python3"
  },
  "language_info": {
   "codemirror_mode": {
    "name": "ipython",
    "version": 3
   },
   "file_extension": ".py",
   "mimetype": "text/x-python",
   "name": "python",
   "nbconvert_exporter": "python",
   "pygments_lexer": "ipython3",
   "version": "3.10.12"
  },
  "vscode": {
   "interpreter": {
    "hash": "f1062708a37074d70712b695aadee582e0b0b9f95f45576b5521424137d05fec"
   }
  }
 },
 "nbformat": 4,
 "nbformat_minor": 5
}
