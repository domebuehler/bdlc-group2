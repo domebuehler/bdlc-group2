{
 "cells": [
  {
   "cell_type": "code",
   "execution_count": 2,
   "id": "5bb1d587-dff1-4352-ae81-d293616942fd",
   "metadata": {},
   "outputs": [],
   "source": [
    "from pyspark.sql import SparkSession\n",
    "import os\n",
    "import findspark\n",
    "\n",
    "os.environ['PYSPARK_PYTHON'] = '/usr/bin/python3'\n",
    "os.environ['PYSPARK_DRIVER_PYTHON'] = '/usr/bin/python3'\n",
    "\n",
    "findspark.init()"
   ]
  },
  {
   "cell_type": "code",
   "execution_count": null,
   "id": "d3870565-96e5-408f-890e-d22604ee5fc2",
   "metadata": {},
   "outputs": [],
   "source": [
    "spark = SparkSession.builder.appName(\"lets do some querying\").getOrCreate()\n",
    "spark.conf.set(\"spark.sql.debug.maxToStringFields\", 1000)"
   ]
  },
  {
   "cell_type": "code",
   "execution_count": null,
   "id": "65e49037-42a2-48ec-8c9b-a62099359fc9",
   "metadata": {},
   "outputs": [],
   "source": [
    "df = spark.read.parquet(f\"/parkingviolations/raw_all.parquet\").cache()"
   ]
  },
  {
   "cell_type": "code",
   "execution_count": 5,
   "id": "15879a58-6b9b-4d43-9bda-8e96c054af28",
   "metadata": {},
   "outputs": [
    {
     "name": "stdout",
     "output_type": "stream",
     "text": [
      "root\n",
      " |-- violation_code: integer (nullable = true)\n",
      " |-- summons_number: integer (nullable = true)\n",
      " |-- plate_id: string (nullable = true)\n",
      " |-- registration_state: string (nullable = true)\n",
      " |-- plate_type: string (nullable = true)\n",
      " |-- issue_date: date (nullable = true)\n",
      " |-- vehicle_body_type: string (nullable = true)\n",
      " |-- vehicle_make: string (nullable = true)\n",
      " |-- issuing_agency: string (nullable = true)\n",
      " |-- street_code1: integer (nullable = true)\n",
      " |-- street_code2: integer (nullable = true)\n",
      " |-- street_code3: integer (nullable = true)\n",
      " |-- vehicle_expiration_date: integer (nullable = true)\n",
      " |-- violation_location: string (nullable = true)\n",
      " |-- violation_precinct: integer (nullable = true)\n",
      " |-- issuer_precinct: integer (nullable = true)\n",
      " |-- issuer_code: integer (nullable = true)\n",
      " |-- issuer_command: string (nullable = true)\n",
      " |-- issuer_squad: string (nullable = true)\n",
      " |-- violation_time: string (nullable = true)\n",
      " |-- time_first_observed: string (nullable = true)\n",
      " |-- violation_county: string (nullable = true)\n",
      " |-- violation_in_front_of_or_opposite: string (nullable = true)\n",
      " |-- house_number: string (nullable = true)\n",
      " |-- street_name: string (nullable = true)\n",
      " |-- intersecting_street: string (nullable = true)\n",
      " |-- date_first_observed: integer (nullable = true)\n",
      " |-- law_section: integer (nullable = true)\n",
      " |-- sub_division: string (nullable = true)\n",
      " |-- violation_legal_code: string (nullable = true)\n",
      " |-- days_parking_in_effect: string (nullable = true)\n",
      " |-- from_hours_in_effect: string (nullable = true)\n",
      " |-- to_hours_in_effect: string (nullable = true)\n",
      " |-- vehicle_color: string (nullable = true)\n",
      " |-- unregistered_vehicle: string (nullable = true)\n",
      " |-- vehicle_year: integer (nullable = true)\n",
      " |-- meter_number: string (nullable = true)\n",
      " |-- feet_from_curb: integer (nullable = true)\n",
      " |-- violation_post_code: string (nullable = true)\n",
      " |-- no_standing_or_stopping_violation: string (nullable = true)\n",
      " |-- hydrant_violation: string (nullable = true)\n",
      " |-- double_parking_violation: string (nullable = true)\n",
      " |-- issue_datetime: timestamp (nullable = true)\n",
      " |-- violation_description: string (nullable = true)\n",
      " |-- manhattan_96th_st_below: long (nullable = true)\n",
      " |-- all_other_areas: long (nullable = true)\n",
      " |-- fine_amount: double (nullable = true)\n",
      "\n"
     ]
    }
   ],
   "source": [
    "df.printSchema()"
   ]
  },
  {
   "cell_type": "markdown",
   "id": "14706613",
   "metadata": {},
   "source": [
    "## Question 1: What's the most amount that was paid in violations and by which Plate ID?"
   ]
  },
  {
   "cell_type": "code",
   "execution_count": 6,
   "id": "d3bd25b3-50b4-4590-adf4-70e0b2be221a",
   "metadata": {},
   "outputs": [
    {
     "name": "stderr",
     "output_type": "stream",
     "text": [
      "                                                                                \r"
     ]
    },
    {
     "name": "stdout",
     "output_type": "stream",
     "text": [
      "+--------+------------+-----+\n",
      "|plate_id|vehicle_make|count|\n",
      "+--------+------------+-----+\n",
      "| 12863KA|        FORD| 7344|\n",
      "| 47603MD|       PETER| 7320|\n",
      "| 2028685|       VOLVO| 6926|\n",
      "| 96091MA|       FRUEH| 6473|\n",
      "| 56253MG|       FRUEH| 6470|\n",
      "| 47832MD|       PETER| 6439|\n",
      "| 52969MD|       FRUEH| 6268|\n",
      "| 83460MH|       FRUEH| 5988|\n",
      "| 12125MJ|       FRUEH| 5920|\n",
      "| 47601MD|       PETER| 5809|\n",
      "+--------+------------+-----+\n",
      "\n"
     ]
    }
   ],
   "source": [
    "filtered_df = df.filter((df.plate_id != \"BLANKPLATE\") & (df.plate_id != \"N/A\"))\n",
    "\n",
    "violations_count = filtered_df.groupBy(\"plate_id\", \"vehicle_make\").count()\n",
    "\n",
    "top_violated_plates = violations_count.orderBy(\"count\", ascending=False).limit(10)\n",
    "\n",
    "top_violated_plates.show()"
   ]
  },
  {
   "cell_type": "code",
   "execution_count": 8,
   "id": "1da7fb45-453f-4a09-ab30-1e3c89304ba2",
   "metadata": {},
   "outputs": [
    {
     "name": "stderr",
     "output_type": "stream",
     "text": [
      "[Stage 10:======================================================> (49 + 1) / 50]\r"
     ]
    },
    {
     "name": "stdout",
     "output_type": "stream",
     "text": [
      "+--------+-----------------+\n",
      "|plate_id|total_fine_amount|\n",
      "+--------+-----------------+\n",
      "| 47603MD|         846407.5|\n",
      "| 12863KA|         793577.5|\n",
      "| 47832MD|         726047.5|\n",
      "| 56253MG|         720915.0|\n",
      "| 30954JX|         689490.0|\n",
      "| 52969MD|         678772.5|\n",
      "| 17744MD|         677172.5|\n",
      "| 47601MD|         670632.5|\n",
      "| 12125MJ|         667880.0|\n",
      "| 83460MH|         665475.0|\n",
      "| 16223TC|         664930.0|\n",
      "| 47602MD|         664180.0|\n",
      "| 96091MA|         654795.0|\n",
      "| 17741MD|         649907.5|\n",
      "| 68094JZ|         642710.0|\n",
      "| 16213TC|         637410.0|\n",
      "| 63394JM|         630322.5|\n",
      "| 85829JB|         621282.5|\n",
      "| 85994MD|         620710.0|\n",
      "| 12821KA|         617697.5|\n",
      "+--------+-----------------+\n",
      "only showing top 20 rows\n",
      "\n"
     ]
    },
    {
     "name": "stderr",
     "output_type": "stream",
     "text": [
      "                                                                                \r"
     ]
    }
   ],
   "source": [
    "from pyspark.sql.functions import desc\n",
    "filtered_df = df.filter((df.plate_id != \"BLANKPLATE\") & (df.plate_id != \"N/A\"))\n",
    "\n",
    "result_df = filtered_df.groupBy(\"plate_id\") \\\n",
    "             .agg(sum(\"fine_amount\").alias(\"total_fine_amount\")) \\\n",
    "             .orderBy(\"total_fine_amount\") \\\n",
    "             .orderBy(desc(\"total_fine_amount\"))\n",
    "\n",
    "\n",
    "result_df.show()"
   ]
  },
  {
   "cell_type": "markdown",
   "id": "d0a1998c",
   "metadata": {},
   "source": [
    "The query returns the license plate ids and the amount of fines collected on them over 10 years. The plate id 47603MD has the highest value of fines collected in the last 10 years with a value of 846'407.5 dollars. This seems to be too high at first. But considering some facts it could be the case. First, we have to divide the amount of fines over 10 years, which results in an annual average of 84,641 dollars. According to https://www.nyc.gov/html/dot/downloads/pdf/nyc_greendividend_april2010.pdf New Yorkers own 2 million cars. So the chances that there are some car owners who do not follow any parking rules, especially in a city with so many rich people is possible. Additionally, you have to consider that it's not just this one outlier, there are many other license plates that are close to this number. Because we didn't get the total fine amount from one data point, but by summing up all the amounts registered on this license plate, it is more possible that this is not a case of false data."
   ]
  },
  {
   "cell_type": "markdown",
   "id": "e50ff3a4-d0c0-491a-96b0-f77715a66240",
   "metadata": {},
   "source": [
    "## Question 2: At what hour of the day is it most likely to get a ticket?"
   ]
  },
  {
   "cell_type": "code",
   "execution_count": 9,
   "id": "e5cb4965",
   "metadata": {},
   "outputs": [
    {
     "name": "stderr",
     "output_type": "stream",
     "text": [
      "                                                                                \r"
     ]
    },
    {
     "name": "stdout",
     "output_type": "stream",
     "text": [
      "Most likely hour to get a ticket is: 9\n",
      "The number of tickets issued during that hour: 13956669\n"
     ]
    },
    {
     "name": "stderr",
     "output_type": "stream",
     "text": [
      "                                                                                \r"
     ]
    },
    {
     "name": "stdout",
     "output_type": "stream",
     "text": [
      "+----------+--------+---------------------+\n",
      "|issue_hour|count   |likeliness_percentage|\n",
      "+----------+--------+---------------------+\n",
      "|9         |13956669|9.73885129251759     |\n",
      "|11        |13838039|9.656072233357314    |\n",
      "|8         |13054246|9.10914778662033     |\n",
      "|13        |13043221|9.101454630359333    |\n",
      "|10        |11518288|8.03736865697609     |\n",
      "|14        |11411279|7.962698638079675    |\n",
      "|15        |8722397 |6.08641842099297     |\n",
      "|7         |7990401 |5.575637503947671    |\n",
      "|16        |7428136 |5.183293512556357    |\n",
      "|17        |5750077 |4.0123574488673235   |\n",
      "|6         |4079367 |2.8465494582270026   |\n",
      "|18        |3806819 |2.6563676575356565   |\n",
      "|1         |3458389 |2.4132360080101214   |\n",
      "|5         |3376263 |2.355929146233196    |\n",
      "|2         |3034098 |2.11716916328137     |\n",
      "|0         |2871407 |2.0036446929632032   |\n",
      "|3         |2766792 |1.9306451879977469   |\n",
      "|20        |2616429 |1.825723096852874    |\n",
      "|4         |2525885 |1.7625422224314977   |\n",
      "|21        |2484729 |1.7338238968915818   |\n",
      "|19        |2213271 |1.544402689426947    |\n",
      "|22        |1415513 |0.9877335780926989   |\n",
      "|23        |1152318 |0.8040782255200924   |\n",
      "|12        |785219  |0.5479194980592696   |\n",
      "+----------+--------+---------------------+\n",
      "only showing top 24 rows\n",
      "\n"
     ]
    },
    {
     "name": "stderr",
     "output_type": "stream",
     "text": [
      "                                                                                \r"
     ]
    },
    {
     "data": {
      "image/png": "[encoded data removed]",
      "text/plain": [
       "<Figure size 1000x600 with 1 Axes>"
      ]
     },
     "metadata": {},
     "output_type": "display_data"
    }
   ],
   "source": [
    "from pyspark.sql.functions import hour, col\n",
    "import matplotlib.pyplot as plt\n",
    "# hour extraction\n",
    "df_with_hour = df.withColumn(\"issue_hour\", hour(col(\"issue_datetime\")))\n",
    "\n",
    "# tickets per hour\n",
    "hourly_ticket_counts = df_with_hour.groupBy(\"issue_hour\").count()\n",
    "\n",
    "# Hour with the highest amounts of tickets issued\n",
    "most_likely_hour = hourly_ticket_counts.orderBy(col(\"count\").desc()).first()\n",
    "most_likely_hour_of_day = most_likely_hour[\"issue_hour\"]\n",
    "ticket_count_at_peak_hour = most_likely_hour[\"count\"]\n",
    "\n",
    "\n",
    "\n",
    "# Calculate the total number of tickets for percentages\n",
    "total_tickets = df_with_hour.count()\n",
    "\n",
    "# Calculate the percentage likelihood for each hour\n",
    "hourly_ticket_counts = hourly_ticket_counts.withColumn(\n",
    "    \"likeliness_percentage\",\n",
    "    (col(\"count\") / total_tickets) * 100\n",
    ")\n",
    "\n",
    "# Show results\n",
    "print(f\"Most likely hour to get a ticket is: {most_likely_hour_of_day}\")\n",
    "print(f\"The number of tickets issued during that hour: {ticket_count_at_peak_hour}\")\n",
    "hourly_ticket_counts.orderBy(hourly_ticket_counts.likeliness_percentage.desc()) \\\n",
    ".show(24, truncate=False)\n",
    "\n",
    "\n",
    "\n",
    "# Convert to pandas for plotting\n",
    "pandas_df = hourly_ticket_counts.orderBy('issue_hour').toPandas()\n",
    "\n",
    "plt.figure(figsize=(10, 6))\n",
    "plt.bar(pandas_df['issue_hour'], pandas_df['likeliness_percentage'], color='blue')\n",
    "plt.xlabel('Issue Hour')\n",
    "plt.ylabel('Likeliness Percentage')\n",
    "plt.title('Percentage of tickets issued over hours of day')\n",
    "plt.xticks(range(0, 24))\n",
    "plt.show()"
   ]
  },
  {
   "cell_type": "markdown",
   "id": "2fbbc02d",
   "metadata": {},
   "source": [
    "The above analysis suggests that 9am is the hour with the highest probability of receiving a ticket in New York City. But it also shows that there is only a small difference between the number of tickets issued at 9am and 11am or 8am. \n",
    "It is very noticeable that all the early hours of a normal work day are ranked highest. It is interesting to note that the lowest number of tickets is issued between 12 and 13 o'clock.\n",
    "This is surprising because the data suggests that more tickets are issued at 3 am in the morning than during the lunch hour.\n",
    "Overall, the results seem reasonable, even if it is a bit unexpected to see that there are still so many tickets given at night and such a steep decline during the lunch break. It's also interesting to see how quickly the number of tickets issued drops from 1 pm onward."
   ]
  },
  {
   "cell_type": "markdown",
   "id": "e2893a85-557e-4296-82ca-9d54fe4feb82",
   "metadata": {},
   "source": [
    "## Question 3: Does the Pareto Principle apply? Do the top 20% of plate ids generate 80% of the revenue?"
   ]
  },
  {
   "cell_type": "markdown",
   "id": "8ac912a9-b07b-43de-88f2-b597443d77f4",
   "metadata": {},
   "source": [
    "First Query is a lot faster but doesn't use as much the learned SQL commands"
   ]
  },
  {
   "cell_type": "code",
   "execution_count": 10,
   "id": "d76982c9-7b75-40ac-9348-ce21b544bfc9",
   "metadata": {},
   "outputs": [
    {
     "name": "stderr",
     "output_type": "stream",
     "text": [
      "                                                                                \r"
     ]
    },
    {
     "name": "stdout",
     "output_type": "stream",
     "text": [
      "75.2081013971057\n"
     ]
    }
   ],
   "source": [
    "from pyspark.sql import SparkSession\n",
    "from pyspark.sql.functions import col, sum as _sum\n",
    "\n",
    "\n",
    "# Step 1: Filter out invalid plate IDs and group by plate_id to count the tickets\n",
    "violator_ticket_counts = df.filter((col(\"plate_id\") != \"BLANKPLATE\") & (col(\"plate_id\") != \"N/A\")) \\\n",
    "    .groupBy(\"plate_id\") \\\n",
    "    .count()\n",
    "\n",
    "# Step 2: Calculate the top 20% threshold using approxQuantile\n",
    "top_20_percent_count_threshold = violator_ticket_counts \\\n",
    "    .approxQuantile(\"count\", [0.80], 0.01)[0]\n",
    "\n",
    "# Step 3: Filter the top 20% violators\n",
    "top_20_percent_violators = violator_ticket_counts \\\n",
    "    .filter(col(\"count\") >= top_20_percent_count_threshold)\n",
    "\n",
    "# Step 4: Join with the original dataframe to get rows for top 20% violators\n",
    "top_20_percent_df = df.join(top_20_percent_violators, on=\"plate_id\", how=\"inner\")\n",
    "\n",
    "# Calculate total fine amount for top 20% violators\n",
    "total_fine_top_20_percent = top_20_percent_df.agg(_sum(\"fine_amount\").alias(\"total_fine\")).collect()[0][\"total_fine\"]\n",
    "\n",
    "# Calculate total fine amount for all violators\n",
    "total_fine_all = df.agg(_sum(\"fine_amount\").alias(\"total_fine\")).collect()[0][\"total_fine\"]\n",
    "\n",
    "# Calculate the percentage\n",
    "percentage_fine_top_20_percent = (total_fine_top_20_percent / total_fine_all) * 100\n",
    "\n",
    "print(percentage_fine_top_20_percent)"
   ]
  },
  {
   "cell_type": "code",
   "execution_count": null,
   "id": "690628d9",
   "metadata": {},
   "outputs": [
    {
     "name": "stderr",
     "output_type": "stream",
     "text": [
      "[Stage 54:>                                                         (0 + 1) / 1]\r"
     ]
    }
   ],
   "source": [
    "from pyspark.sql.functions import col, desc, sum as _sum\n",
    "\n",
    "# Calculate the total number of tickets issued for each violator\n",
    "#Filtering out the dumb ones\n",
    "violator_ticket_counts = df.filter((df.plate_id != \"BLANKPLATE\") & (df.plate_id != \"N/A\")) \\\n",
    ".groupBy(\"plate_id\").count()\n",
    "\n",
    "# Calculate the threshold to find the top 10% violators\n",
    "total_violators = violator_ticket_counts.count()\n",
    "top_10_percent_threshold = int(total_violators * 0.20)\n",
    "\n",
    "# Get the top 10% violators\n",
    "top_10_percent_violators = violator_ticket_counts.orderBy(desc(\"count\")).limit(top_10_percent_threshold)\n",
    "\n",
    "# Join with the original dataframe to filter rows for the top 10% violators\n",
    "top_10_percent_df = df.join(top_10_percent_violators, on=\"plate_id\", how=\"inner\")\n",
    "\n",
    "# Calculate the total fine amount for the top 10% violators\n",
    "total_fine_top_10_percent = top_10_percent_df.agg(_sum(\"fine_amount\").alias(\"total_fine\")).collect()[0][\"total_fine\"]\n",
    "\n",
    "# Calculate the total fine amount for all violators\n",
    "total_fine_all = df.agg(_sum(\"fine_amount\").alias(\"total_fine\")).collect()[0][\"total_fine\"]\n",
    "\n",
    "# Calculate the percentage\n",
    "percentage_fine_top_10_percent = (total_fine_top_10_percent / total_fine_all) * 100\n",
    "\n",
    "print(percentage_fine_top_10_percent)"
   ]
  },
  {
   "cell_type": "markdown",
   "id": "5fb9b923-2bca-4ca0-9563-5f880deeafb9",
   "metadata": {},
   "source": [
    "Approximately 75% of total violation revenue comes from the top 20% of highest paying plate IDs. This seems like a reasonable number. There are many plate IDs that have only a small number of minor violations over 10 years. But the top 20% of violators have probably violated a lot over the 10 years. So it makes sense that the top percentage would make up a small portion of the total revenue that comes from parking fines. This shows that the Pareto principle applies to parking violations. A small number of plates cause most parking violations."
   ]
  },
  {
   "cell_type": "markdown",
   "id": "bf2a3a77-aabc-49da-9341-5c98d95e997b",
   "metadata": {},
   "source": [
    "## Question 4: How much money do the top 10 most issued violations bring in?"
   ]
  },
  {
   "cell_type": "code",
   "execution_count": 18,
   "id": "ab4cba27-b0ff-46f5-9c4a-76003748d676",
   "metadata": {
    "scrolled": true
   },
   "outputs": [],
   "source": [
    "from pyspark.sql.functions import col\n",
    "\n",
    "# Group by violation code and sum the fine amount\n",
    "violation_counts = df.groupBy(\"violation_code\", \"violation_description\") \\\n",
    "    .agg({\"fine_amount\": \"sum\"}) \\\n",
    "    .withColumnRenamed(\"sum(fine_amount)\", \"total_fine\") \\\n",
    "    .orderBy(col(\"total_fine\").desc()) \\\n",
    "    .limit(10)  # Select the top 10 violations"
   ]
  },
  {
   "cell_type": "code",
   "execution_count": 19,
   "id": "70c32722-e06c-49ca-8ff8-97081ab15bfb",
   "metadata": {},
   "outputs": [
    {
     "name": "stderr",
     "output_type": "stream",
     "text": [
      "                                                                                \r"
     ]
    },
    {
     "data": {
      "image/png": "[encoded data removed]",
      "text/plain": [
       "<Figure size 1000x800 with 1 Axes>"
      ]
     },
     "metadata": {},
     "output_type": "display_data"
    },
    {
     "name": "stderr",
     "output_type": "stream",
     "text": [
      "[Stage 54:>                                                         (0 + 1) / 1]\r"
     ]
    }
   ],
   "source": [
    "import matplotlib.pyplot as plt\n",
    "import matplotlib.ticker as ticker\n",
    "\n",
    "# Extracting data for plotting\n",
    "codes = violation_counts.select(\"violation_code\").rdd.flatMap(lambda x: x).collect()\n",
    "descriptions = violation_counts.select(\"violation_description\").rdd.flatMap(lambda x: x).collect()\n",
    "total_fines = violation_counts.select(\"total_fine\").rdd.flatMap(lambda x: x).collect()\n",
    "\n",
    "# Function to format large numbers\n",
    "def format_large_numbers(x, pos):\n",
    "    if x >= 1e9:\n",
    "        return '{:,.0f}B'.format(x * 1e-9)\n",
    "    elif x >= 1e6:\n",
    "        return '{:,.0f}M'.format(x * 1e-6)\n",
    "    elif x >= 1e3:\n",
    "        return '{:,.0f}K'.format(x * 1e-3)\n",
    "    else:\n",
    "        return '{:,.0f}'.format(x)\n",
    "\n",
    "# Plotting\n",
    "plt.figure(figsize=(10, 8))\n",
    "plt.barh(descriptions, total_fines, color='skyblue')\n",
    "plt.xlabel('Total Fine Amount')\n",
    "plt.ylabel('Violation Description')\n",
    "plt.title('Top 10 Most Issued Violations and Their Total Fine Amounts')\n",
    "plt.gca().invert_yaxis()  # Invert y-axis to have the highest fine at the top\n",
    "plt.gca().xaxis.set_major_formatter(ticker.FuncFormatter(format_large_numbers))  # Apply the formatting function to x-axis\n",
    "plt.show()"
   ]
  },
  {
   "cell_type": "code",
   "execution_count": 20,
   "id": "1227235b-7693-40c3-a2e6-20b6dec89d99",
   "metadata": {},
   "outputs": [],
   "source": [
    "spark.stop()"
   ]
  }
 ],
 "metadata": {
  "kernelspec": {
   "display_name": "Python 3 (ipykernel)",
   "language": "python",
   "name": "python3"
  },
  "language_info": {
   "codemirror_mode": {
    "name": "ipython",
    "version": 3
   },
   "file_extension": ".py",
   "mimetype": "text/x-python",
   "name": "python",
   "nbconvert_exporter": "python",
   "pygments_lexer": "ipython3",
   "version": "3.10.12"
  },
  "vscode": {
   "interpreter": {
    "hash": "f1062708a37074d70712b695aadee582e0b0b9f95f45576b5521424137d05fec"
   }
  }
 },
 "nbformat": 4,
 "nbformat_minor": 5
}
