{
 "cells": [
  {
   "cell_type": "markdown",
   "id": "2d7f9fc1-3eba-47ba-bfc0-bc14111f39da",
   "metadata": {},
   "source": [
    "## Test Spark setup for cluster\n",
    "\n",
    "Here we try some test commands to verify the cluster setup."
   ]
  },
  {
   "cell_type": "code",
   "execution_count": null,
   "id": "9d11bc4d-6125-4dc6-a69e-bf7f687cc8ce",
   "metadata": {},
   "outputs": [],
   "source": [
    "# Init Spark to be used by pyspark.\n",
    "import findspark\n",
    "findspark.init()\n",
    "\n",
    "from pyspark.sql import SparkSession\n",
    "\n",
    "# Init SparkSession.\n",
    "spark = SparkSession \\\n",
    "    .builder \\\n",
    "    .appName(\"Test Spark and HDFS\") \\\n",
    "    .getOrCreate()"
   ]
  },
  {
   "cell_type": "code",
   "execution_count": 7,
   "id": "a2253dab-fe0f-4bbd-9ee0-1c081694c554",
   "metadata": {},
   "outputs": [
    {
     "name": "stderr",
     "output_type": "stream",
     "text": [
      "[Stage 3:>                                                          (0 + 1) / 1]\r"
     ]
    },
    {
     "name": "stdout",
     "output_type": "stream",
     "text": [
      "+------+\n",
      "|number|\n",
      "+------+\n",
      "|     0|\n",
      "|     2|\n",
      "|     4|\n",
      "|     6|\n",
      "|     8|\n",
      "+------+\n",
      "only showing top 5 rows\n",
      "\n"
     ]
    },
    {
     "name": "stderr",
     "output_type": "stream",
     "text": [
      "                                                                                \r"
     ]
    }
   ],
   "source": [
    "# Try out plain pyspark.\n",
    "myRange = spark.range(1000).toDF(\"number\")\n",
    "myRange.where(\"number % 2 = 0\").show(5)"
   ]
  },
  {
   "cell_type": "code",
   "execution_count": 8,
   "id": "9af0d760-b14b-42e6-8473-e4f5c0bcc511",
   "metadata": {},
   "outputs": [],
   "source": [
    "# Read dummy data from hdfs.\n",
    "holmes_raw = spark.read.text(\"/test/holmes.txt\")"
   ]
  },
  {
   "cell_type": "code",
   "execution_count": 10,
   "id": "427054dc-cea3-4909-b66c-207274fcea59",
   "metadata": {},
   "outputs": [
    {
     "name": "stderr",
     "output_type": "stream",
     "text": [
      "[Stage 6:>                                                          (0 + 1) / 1]\r"
     ]
    },
    {
     "name": "stdout",
     "output_type": "stream",
     "text": [
      "+----+-----+\n",
      "|word|count|\n",
      "+----+-----+\n",
      "| the| 5709|\n",
      "| and| 2878|\n",
      "|  of| 2759|\n",
      "|  to| 2721|\n",
      "|   a| 2648|\n",
      "|   i| 2533|\n",
      "|  in| 1761|\n",
      "|that| 1604|\n",
      "| was| 1371|\n",
      "|  he| 1278|\n",
      "|  it| 1267|\n",
      "| you| 1176|\n",
      "| his| 1146|\n",
      "|  is| 1079|\n",
      "|  my|  955|\n",
      "|have|  903|\n",
      "|with|  869|\n",
      "|  as|  848|\n",
      "| had|  813|\n",
      "|  at|  768|\n",
      "+----+-----+\n",
      "only showing top 20 rows\n",
      "\n"
     ]
    },
    {
     "name": "stderr",
     "output_type": "stream",
     "text": [
      "                                                                                \r"
     ]
    }
   ],
   "source": [
    "# Simple world count example for dummy data.\n",
    "\n",
    "from pyspark.sql.functions import split, col\n",
    "wc = holmes_raw \\\n",
    "    .select(split(col(\"value\"), \" \").alias(\"sentence\")) \\\n",
    "    .selectExpr(\"(explode(sentence)) as word\") \\\n",
    "    .selectExpr(\"lower(word) as word\") \\\n",
    "    .filter(\"word != ''\") \\\n",
    "    .groupBy(\"word\") \\\n",
    "    .count()\\\n",
    "    .orderBy(\"count\", ascending=False) \\\n",
    "    .show(20)"
   ]
  },
  {
   "cell_type": "code",
   "execution_count": 11,
   "id": "bd9f3961-e90e-40f7-a758-a9a2cf95bf20",
   "metadata": {},
   "outputs": [],
   "source": [
    "spark.stop()"
   ]
  }
 ],
 "metadata": {
  "kernelspec": {
   "display_name": "Python 3 (ipykernel)",
   "language": "python",
   "name": "python3"
  },
  "language_info": {
   "codemirror_mode": {
    "name": "ipython",
    "version": 3
   },
   "file_extension": ".py",
   "mimetype": "text/x-python",
   "name": "python",
   "nbconvert_exporter": "python",
   "pygments_lexer": "ipython3",
   "version": "3.10.12"
  }
 },
 "nbformat": 4,
 "nbformat_minor": 5
}
