{
 "cells": [
  {
   "cell_type": "markdown",
   "id": "ae611828-2358-4938-841b-1b33d7c09bae",
   "metadata": {},
   "source": [
    "## Test HDFS setup for cluster\n",
    "\n",
    "Here we try some test commands to verify the cluster setup."
   ]
  },
  {
   "cell_type": "code",
   "execution_count": 1,
   "id": "7d3dfd9d-1807-4a9b-9dce-9e601e684043",
   "metadata": {},
   "outputs": [
    {
     "name": "stdout",
     "output_type": "stream",
     "text": [
      "--2024-05-31 09:13:11--  https://www.gutenberg.org/files/1661/1661-0.txt\n",
      "Resolving www.gutenberg.org (www.gutenberg.org)... 152.19.134.47, 2610:28:3090:3000:0:bad:cafe:47\n",
      "Connecting to www.gutenberg.org (www.gutenberg.org)|152.19.134.47|:443... connected.\n",
      "HTTP request sent, awaiting response... 200 OK\n",
      "Length: 607504 (593K) [text/plain]\n",
      "Saving to: ‘/home/cluster/holmes.txt’\n",
      "\n",
      "/home/cluster/holme 100%[===================>] 593.27K  1.17MB/s    in 0.5s    \n",
      "\n",
      "2024-05-31 09:13:12 (1.17 MB/s) - ‘/home/cluster/holmes.txt’ saved [607504/607504]\n",
      "\n"
     ]
    }
   ],
   "source": [
    "# Download some dummy data.\n",
    "!wget https://www.gutenberg.org/files/1661/1661-0.txt -O ~/holmes.txt"
   ]
  },
  {
   "cell_type": "code",
   "execution_count": 2,
   "id": "e2f15520-432d-4b7b-8b91-d24aeeae9299",
   "metadata": {},
   "outputs": [
    {
     "name": "stdout",
     "output_type": "stream",
     "text": [
      "﻿The Project Gutenberg eBook of The Adventures of Sherlock Holmes,\n",
      "by Arthur Conan Doyle\n",
      "\n",
      "This eBook is for the use of anyone anywhere in the United States and\n",
      "most other parts of the world at no cost and with almost no restrictions\n"
     ]
    }
   ],
   "source": [
    "# Verify the download.\n",
    "!head -n 5 /home/cluster/holmes.txt"
   ]
  },
  {
   "cell_type": "code",
   "execution_count": 14,
   "id": "1b121719-09c7-49fb-b0fa-554af89da97d",
   "metadata": {},
   "outputs": [],
   "source": [
    "# Upload dummy data to hdfs.\n",
    "!hdfs dfs -mkdir /test\n",
    "!hdfs dfs -put ~/holmes.txt /test/"
   ]
  },
  {
   "cell_type": "code",
   "execution_count": 15,
   "id": "a1a752a5-3f0a-44b2-84f6-c451c18563ec",
   "metadata": {},
   "outputs": [
    {
     "name": "stdout",
     "output_type": "stream",
     "text": [
      "Found 1 items\n",
      "-rw-r--r--   2 cluster supergroup     607504 2024-05-31 09:19 /test/holmes.txt\n"
     ]
    }
   ],
   "source": [
    "# Verify upload.\n",
    "!hdfs dfs -ls /test"
   ]
  },
  {
   "cell_type": "code",
   "execution_count": 12,
   "id": "37050fb5-3960-473f-92f0-f16b8d6475ba",
   "metadata": {},
   "outputs": [
    {
     "name": "stdout",
     "output_type": "stream",
     "text": [
      "12306\n"
     ]
    }
   ],
   "source": [
    "# Read dummy data from hdfs.\n",
    "!hdfs dfs -cat /test/holmes.txt | wc -l"
   ]
  },
  {
   "cell_type": "code",
   "execution_count": 13,
   "id": "a4553318-71b7-4423-9182-ebf13b78d0e8",
   "metadata": {},
   "outputs": [
    {
     "name": "stdout",
     "output_type": "stream",
     "text": [
      "Deleted /test/holmes.txt\n"
     ]
    }
   ],
   "source": [
    "# Remove dummy data.\n",
    "!hdfs dfs -rm /test/holmes.txt\n",
    "!hdfs dfs -rmdir /test"
   ]
  }
 ],
 "metadata": {
  "kernelspec": {
   "display_name": "Python 3 (ipykernel)",
   "language": "python",
   "name": "python3"
  },
  "language_info": {
   "codemirror_mode": {
    "name": "ipython",
    "version": 3
   },
   "file_extension": ".py",
   "mimetype": "text/x-python",
   "name": "python",
   "nbconvert_exporter": "python",
   "pygments_lexer": "ipython3",
   "version": "3.10.12"
  }
 },
 "nbformat": 4,
 "nbformat_minor": 5
}
