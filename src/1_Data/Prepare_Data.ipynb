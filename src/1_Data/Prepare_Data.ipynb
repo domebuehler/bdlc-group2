{
 "cells": [
  {
   "cell_type": "markdown",
   "id": "0b91bfc4-4d9c-4ae3-99d3-950d821216e4",
   "metadata": {},
   "source": [
    "# Clean up\n",
    "All good things run out of the box :) <br/>\n",
    "The Hands-On Jupyter File is intended to run on the namenode"
   ]
  },
  {
   "cell_type": "code",
   "execution_count": null,
   "id": "9f01f060-c09e-4830-85b5-8710105ef684",
   "metadata": {},
   "outputs": [],
   "source": [
    "import os\n",
    "original_directory = os.getcwd()"
   ]
  },
  {
   "cell_type": "code",
   "execution_count": null,
   "id": "1e6a1828-ff64-44e3-844f-9e6dddcf9469",
   "metadata": {},
   "outputs": [],
   "source": [
    "!hdfs dfs -rm -r /parkingviolations /parkingviolations-codes"
   ]
  },
  {
   "cell_type": "code",
   "execution_count": null,
   "id": "a7fbbe57-8982-4ffb-8b4c-6f9ce29a861e",
   "metadata": {},
   "outputs": [],
   "source": [
    "!rm -rf /data/hdfscluster/rawdata/"
   ]
  },
  {
   "cell_type": "markdown",
   "id": "ad38343f-2b56-488c-97b5-78c8a4f582a8",
   "metadata": {},
   "source": [
    "## Setup temporary directory for files"
   ]
  },
  {
   "cell_type": "code",
   "execution_count": null,
   "id": "724c6101-90c6-4ca3-98e1-57bca3d34e72",
   "metadata": {},
   "outputs": [],
   "source": [
    "!mkdir /data/hdfscluster/rawdata/\n",
    "!cp ./download.sh /data/hdfscluster/rawdata/"
   ]
  },
  {
   "cell_type": "markdown",
   "id": "848ad289-54d7-46ef-92cc-4c7b7dd4d25d",
   "metadata": {},
   "source": [
    "## Download Violation Code Mapping as XLSX\n",
    "Download Violations Code Mapping from Official City of New York Data Site"
   ]
  },
  {
   "cell_type": "code",
   "execution_count": null,
   "id": "171c9ff2-2778-4d4d-a526-7965d9cedc2e",
   "metadata": {
    "scrolled": true
   },
   "outputs": [],
   "source": [
    "!wget -O Codes-Mapping.xlsx \"https://data.cityofnewyork.us/api/views/pvqr-7yc4/files/7875fa68-3a29-4825-9dfb-63ef30576f9e?download=true&filename=ParkingViolationCodes_January2020.xlsx\""
   ]
  },
  {
   "cell_type": "code",
   "execution_count": null,
   "id": "dd58cc14-8a6e-4801-a4a4-d72d6a0d999c",
   "metadata": {},
   "outputs": [],
   "source": [
    "!hdfs dfs -mkdir /parkingviolations-codes"
   ]
  },
  {
   "cell_type": "code",
   "execution_count": null,
   "id": "cc8d9794-4c7b-4bf3-aa24-fb42ba47917c",
   "metadata": {},
   "outputs": [],
   "source": [
    "!hdfs dfs -put ./Codes-Mapping.xlsx /parkingviolations-codes"
   ]
  },
  {
   "cell_type": "markdown",
   "id": "39911b1a-98ea-4cc9-8781-f4ac9ad9c298",
   "metadata": {},
   "source": [
    "## Download Rawdata"
   ]
  },
  {
   "cell_type": "code",
   "execution_count": null,
   "id": "d8b00b75-6368-4476-bc64-666bd5fc0d37",
   "metadata": {},
   "outputs": [],
   "source": [
    "os.chdir(\"/data/hdfscluster/rawdata/\")"
   ]
  },
  {
   "cell_type": "code",
   "execution_count": null,
   "id": "6ea48967-c8ee-4dec-9abb-ec8c0b341bfd",
   "metadata": {},
   "outputs": [],
   "source": [
    "!chmod +x download.sh\n",
    "!./download.sh"
   ]
  },
  {
   "cell_type": "markdown",
   "id": "221b49ac-afaa-46bc-a8cf-08687962e83c",
   "metadata": {},
   "source": [
    "## Move Rawdata to hdfs"
   ]
  },
  {
   "cell_type": "code",
   "execution_count": null,
   "id": "5595ca70-5c41-4598-bc07-00eeb153a97b",
   "metadata": {},
   "outputs": [],
   "source": [
    "!hdfs dfs -mkdir /parkingviolations/rawdata/"
   ]
  },
  {
   "cell_type": "code",
   "execution_count": null,
   "id": "dcc33ed7-e7ab-4736-9223-02ab2317b1a2",
   "metadata": {},
   "outputs": [],
   "source": [
    "!hdfs dfs -put /data/hdfscluster/rawdata/*.csv /parkingviolations/rawdata/"
   ]
  },
  {
   "cell_type": "markdown",
   "id": "d6257629-1fa6-4004-88b6-ac4ce0173f0a",
   "metadata": {},
   "source": [
    "### Final cleanup"
   ]
  },
  {
   "cell_type": "code",
   "execution_count": null,
   "id": "be5072ee-262d-4fa4-a99f-af38c0bcac10",
   "metadata": {},
   "outputs": [],
   "source": [
    "!rm -rf /data/hdfscluster/rawdata/"
   ]
  },
  {
   "cell_type": "code",
   "execution_count": null,
   "id": "a5c23779-e03a-4b7e-955b-5ad5bd38722b",
   "metadata": {},
   "outputs": [],
   "source": [
    "os.chdir(original_directory)"
   ]
  }
 ],
 "metadata": {
  "kernelspec": {
   "display_name": "Python 3 (ipykernel)",
   "language": "python",
   "name": "python3"
  },
  "language_info": {
   "codemirror_mode": {
    "name": "ipython",
    "version": 3
   },
   "file_extension": ".py",
   "mimetype": "text/x-python",
   "name": "python",
   "nbconvert_exporter": "python",
   "pygments_lexer": "ipython3",
   "version": "3.10.12"
  }
 },
 "nbformat": 4,
 "nbformat_minor": 5
}
